{
 "cells": [
  {
   "cell_type": "code",
   "execution_count": 418,
   "metadata": {},
   "outputs": [],
   "source": [
    "import plotly.plotly as py\n",
    "import plotly.graph_objs as go\n",
    "import pandas as pd\n",
    "import glob\n"
   ]
  },
  {
   "cell_type": "code",
   "execution_count": 419,
   "metadata": {},
   "outputs": [],
   "source": [
    "colors = ['rgba(67,67,67,1)', 'rgba(115,115,115,1)', 'rgba(49,130,189, 1)', 'rgba(189,189,189,1)','rgba(67,0,67,1)','rgba(255,67,67,1)','rgba(67,255,67,1)','rgba(67,67,255,1)',]"
   ]
  },
  {
   "cell_type": "code",
   "execution_count": 420,
   "metadata": {},
   "outputs": [],
   "source": [
    "colors=colors*11\n"
   ]
  },
  {
   "cell_type": "code",
   "execution_count": 421,
   "metadata": {},
   "outputs": [],
   "source": [
    "mode_size = [8, 8, 12, 8,5,6,7,8]\n",
    "\n",
    "line_size = [2, 2, 4, 2,2,4,5,4]"
   ]
  },
  {
   "cell_type": "code",
   "execution_count": 422,
   "metadata": {},
   "outputs": [
    {
     "data": {
      "text/html": [
       "<div>\n",
       "<style>\n",
       "    .dataframe thead tr:only-child th {\n",
       "        text-align: right;\n",
       "    }\n",
       "\n",
       "    .dataframe thead th {\n",
       "        text-align: left;\n",
       "    }\n",
       "\n",
       "    .dataframe tbody tr th {\n",
       "        vertical-align: top;\n",
       "    }\n",
       "</style>\n",
       "<table border=\"1\" class=\"dataframe\">\n",
       "  <thead>\n",
       "    <tr style=\"text-align: right;\">\n",
       "      <th></th>\n",
       "      <th>hour</th>\n",
       "      <th>AvgSpeed</th>\n",
       "      <th>AvgDistance</th>\n",
       "      <th>AvgTime</th>\n",
       "      <th>AvgTip</th>\n",
       "      <th>TipPercentage</th>\n",
       "      <th>AvgPassCount</th>\n",
       "      <th>AvgFare</th>\n",
       "      <th>AvgExtra</th>\n",
       "      <th>AvgTolls</th>\n",
       "      <th>AvgTotal</th>\n",
       "      <th>trips</th>\n",
       "      <th>year</th>\n",
       "    </tr>\n",
       "  </thead>\n",
       "  <tbody>\n",
       "    <tr>\n",
       "      <th>0</th>\n",
       "      <td>0</td>\n",
       "      <td>15.3</td>\n",
       "      <td>3.1</td>\n",
       "      <td>11.9</td>\n",
       "      <td>0.6</td>\n",
       "      <td>5.520</td>\n",
       "      <td>1.8</td>\n",
       "      <td>10.3</td>\n",
       "      <td>0.3</td>\n",
       "      <td>0.1</td>\n",
       "      <td>11.4</td>\n",
       "      <td>6721556</td>\n",
       "      <td>2009</td>\n",
       "    </tr>\n",
       "    <tr>\n",
       "      <th>1</th>\n",
       "      <td>1</td>\n",
       "      <td>15.9</td>\n",
       "      <td>3.1</td>\n",
       "      <td>11.3</td>\n",
       "      <td>0.6</td>\n",
       "      <td>5.632</td>\n",
       "      <td>1.8</td>\n",
       "      <td>10.1</td>\n",
       "      <td>0.3</td>\n",
       "      <td>0.1</td>\n",
       "      <td>11.2</td>\n",
       "      <td>4989829</td>\n",
       "      <td>2009</td>\n",
       "    </tr>\n",
       "    <tr>\n",
       "      <th>2</th>\n",
       "      <td>2</td>\n",
       "      <td>16.6</td>\n",
       "      <td>3.2</td>\n",
       "      <td>11.1</td>\n",
       "      <td>0.6</td>\n",
       "      <td>5.753</td>\n",
       "      <td>1.8</td>\n",
       "      <td>10.3</td>\n",
       "      <td>0.3</td>\n",
       "      <td>0.0</td>\n",
       "      <td>11.3</td>\n",
       "      <td>3751063</td>\n",
       "      <td>2009</td>\n",
       "    </tr>\n",
       "    <tr>\n",
       "      <th>3</th>\n",
       "      <td>3</td>\n",
       "      <td>17.4</td>\n",
       "      <td>3.4</td>\n",
       "      <td>11.2</td>\n",
       "      <td>0.6</td>\n",
       "      <td>5.676</td>\n",
       "      <td>1.8</td>\n",
       "      <td>10.7</td>\n",
       "      <td>0.3</td>\n",
       "      <td>0.1</td>\n",
       "      <td>11.7</td>\n",
       "      <td>2728151</td>\n",
       "      <td>2009</td>\n",
       "    </tr>\n",
       "    <tr>\n",
       "      <th>4</th>\n",
       "      <td>4</td>\n",
       "      <td>19.1</td>\n",
       "      <td>4.0</td>\n",
       "      <td>11.7</td>\n",
       "      <td>0.6</td>\n",
       "      <td>4.949</td>\n",
       "      <td>1.7</td>\n",
       "      <td>11.8</td>\n",
       "      <td>0.3</td>\n",
       "      <td>0.2</td>\n",
       "      <td>13.1</td>\n",
       "      <td>1997479</td>\n",
       "      <td>2009</td>\n",
       "    </tr>\n",
       "  </tbody>\n",
       "</table>\n",
       "</div>"
      ],
      "text/plain": [
       "   hour  AvgSpeed  AvgDistance  AvgTime  AvgTip  TipPercentage  AvgPassCount  \\\n",
       "0     0      15.3          3.1     11.9     0.6          5.520           1.8   \n",
       "1     1      15.9          3.1     11.3     0.6          5.632           1.8   \n",
       "2     2      16.6          3.2     11.1     0.6          5.753           1.8   \n",
       "3     3      17.4          3.4     11.2     0.6          5.676           1.8   \n",
       "4     4      19.1          4.0     11.7     0.6          4.949           1.7   \n",
       "\n",
       "   AvgFare  AvgExtra  AvgTolls  AvgTotal    trips  year  \n",
       "0     10.3       0.3       0.1      11.4  6721556  2009  \n",
       "1     10.1       0.3       0.1      11.2  4989829  2009  \n",
       "2     10.3       0.3       0.0      11.3  3751063  2009  \n",
       "3     10.7       0.3       0.1      11.7  2728151  2009  \n",
       "4     11.8       0.3       0.2      13.1  1997479  2009  "
      ]
     },
     "execution_count": 422,
     "metadata": {},
     "output_type": "execute_result"
    }
   ],
   "source": [
    "path ='NYHourly' # use your path\n",
    "allFiles = glob.glob(path + \"/*.csv\")\n",
    "frame = pd.DataFrame()\n",
    "list_ = []\n",
    "for file_ in allFiles:\n",
    "    df = pd.read_csv(file_,index_col=None, header=0)\n",
    "    list_.append(df)\n",
    "frame = pd.concat(list_)\n",
    "frame.head()\n"
   ]
  },
  {
   "cell_type": "code",
   "execution_count": 423,
   "metadata": {},
   "outputs": [
    {
     "name": "stdout",
     "output_type": "stream",
     "text": [
      "[0, 1, 2, 3, 4, 5, 6, 7, 8, 9, 10, 11, 12, 13, 14, 15, 16, 17, 18, 19, 20, 21, 22, 23]\n"
     ]
    }
   ],
   "source": [
    "x_all=list(frame.iloc[:24,0])\n",
    "print(x_all)"
   ]
  },
  {
   "cell_type": "code",
   "execution_count": null,
   "metadata": {},
   "outputs": [],
   "source": []
  },
  {
   "cell_type": "code",
   "execution_count": 424,
   "metadata": {},
   "outputs": [
    {
     "name": "stdout",
     "output_type": "stream",
     "text": [
      "88\n"
     ]
    }
   ],
   "source": [
    "y_data=[]\n",
    "for j in range(1,12):\n",
    "    for i in range(8):\n",
    "        data1=list(frame.iloc[24*i:24*i+24,j])\n",
    "        y_data.append(data1)\n",
    "print(len(y_data))\n"
   ]
  },
  {
   "cell_type": "code",
   "execution_count": 425,
   "metadata": {},
   "outputs": [],
   "source": [
    "traces=[]\n",
    "namei=[2009,2010,2011,2012,2013,2014,2015,2016]\n",
    "namei=namei*11"
   ]
  },
  {
   "cell_type": "code",
   "execution_count": 426,
   "metadata": {},
   "outputs": [],
   "source": [
    "for i in range(len(y_data)):\n",
    "    traces.append(go.Scatter(\n",
    "        x =x_all,\n",
    "        y = y_data[i],\n",
    "        name=namei[i],\n",
    "        mode='lines',\n",
    "        line=dict(color=colors[i], width=3.5),\n",
    "        connectgaps=True,\n",
    "            ))"
   ]
  },
  {
   "cell_type": "code",
   "execution_count": 427,
   "metadata": {},
   "outputs": [
    {
     "name": "stdout",
     "output_type": "stream",
     "text": [
      "High five! You successfully sent some data to your account on plotly. View your plot in your browser at https://plot.ly/~davit.abgaryan/0 or inside your plot.ly account where it is named 'basic-line'\n"
     ]
    },
    {
     "data": {
      "text/html": [
       "<iframe id=\"igraph\" scrolling=\"no\" style=\"border:none;\" seamless=\"seamless\" src=\"https://plot.ly/~davit.abgaryan/0.embed\" height=\"525px\" width=\"100%\"></iframe>"
      ],
      "text/plain": [
       "<plotly.tools.PlotlyDisplay object>"
      ]
     },
     "execution_count": 427,
     "metadata": {},
     "output_type": "execute_result"
    }
   ],
   "source": [
    "data = traces[8*0:8*0+8]\n",
    "\n",
    "py.iplot(data, filename='basic-line')"
   ]
  },
  {
   "cell_type": "code",
   "execution_count": null,
   "metadata": {},
   "outputs": [],
   "source": []
  },
  {
   "cell_type": "code",
   "execution_count": 428,
   "metadata": {},
   "outputs": [
    {
     "name": "stdout",
     "output_type": "stream",
     "text": [
      "['AvgSpeed Hourly (2009-2016)', 'AvgDistance Hourly (2009-2016)', 'AvgTime Hourly (2009-2016)', 'AvgTip Hourly (2009-2016)', 'TipPercentage Hourly (2009-2016)', 'AvgPassCount Hourly (2009-2016)', 'AvgFare Hourly (2009-2016)', 'AvgExtra Hourly (2009-2016)', 'AvgTolls Hourly (2009-2016)', 'AvgTotal Hourly (2009-2016)', 'trips Hourly (2009-2016)']\n"
     ]
    }
   ],
   "source": [
    "ptitle=list(frame.columns[1:12])\n",
    "ftitle=[]\n",
    "for i in range(11):\n",
    "    ftitle.append(ptitle[i]+' Hourly (2009-2016)')\n",
    "print(ftitle)"
   ]
  },
  {
   "cell_type": "code",
   "execution_count": 429,
   "metadata": {},
   "outputs": [
    {
     "name": "stdout",
     "output_type": "stream",
     "text": [
      "['AvgSpeed', 'AvgDistance', 'AvgTime', 'AvgTip', 'TipPercentage', 'AvgPassCount', 'AvgFare', 'AvgExtra', 'AvgTolls', 'AvgTotal', 'trips']\n"
     ]
    }
   ],
   "source": [
    "ytitle=list(frame.columns[1:12])\n",
    "#faxis=[]\n",
    "#for i in range(11):\n",
    "   #faxis.append([ytitle[i]]*8)\n",
    "    \n",
    "print(ytitle)\n",
    "    "
   ]
  },
  {
   "cell_type": "code",
   "execution_count": 430,
   "metadata": {},
   "outputs": [],
   "source": [
    "dataf=[]\n",
    "layoutf=[]\n",
    "fig=[]\n",
    "\n",
    "for i in range(11):\n",
    "    layoutf.append(go.Layout(\n",
    "    title=ftitle[i],\n",
    "    xaxis=dict(title='Hours'),\n",
    "    yaxis=dict(title=ytitle[i])\n",
    "    )\n",
    "                  )\n",
    "    \n",
    "    dataf.append(traces[8*i:8*i+8])\n",
    "for i in range(11):\n",
    "    fig.append(go.Figure(data=dataf[i], layout=layoutf[i]))\n",
    "    \n",
    "\n"
   ]
  },
  {
   "cell_type": "code",
   "execution_count": 431,
   "metadata": {},
   "outputs": [],
   "source": [
    "#py.iplot(fig[0], filename='basic-line')"
   ]
  },
  {
   "cell_type": "code",
   "execution_count": 432,
   "metadata": {},
   "outputs": [],
   "source": [
    "#py.iplot(fig[1], filename='basic-line')"
   ]
  },
  {
   "cell_type": "code",
   "execution_count": 442,
   "metadata": {},
   "outputs": [],
   "source": [
    "#py.iplot(fig[2], filename='basic-line')"
   ]
  },
  {
   "cell_type": "code",
   "execution_count": 444,
   "metadata": {},
   "outputs": [],
   "source": [
    "#py.iplot(fig[3], filename='basic-line')"
   ]
  },
  {
   "cell_type": "code",
   "execution_count": 446,
   "metadata": {},
   "outputs": [],
   "source": [
    "#py.iplot(fig[4], filename='basic-line')"
   ]
  },
  {
   "cell_type": "code",
   "execution_count": 449,
   "metadata": {},
   "outputs": [],
   "source": [
    "#py.iplot(fig[5], filename='basic-line')"
   ]
  },
  {
   "cell_type": "code",
   "execution_count": 450,
   "metadata": {},
   "outputs": [],
   "source": [
    "#py.iplot(fig[6], filename='basic-line')"
   ]
  },
  {
   "cell_type": "code",
   "execution_count": 438,
   "metadata": {},
   "outputs": [],
   "source": [
    "#py.iplot(fig[7], filename='basic-line')"
   ]
  },
  {
   "cell_type": "code",
   "execution_count": 454,
   "metadata": {},
   "outputs": [],
   "source": [
    "#py.iplot(fig[8], filename='basic-line')"
   ]
  },
  {
   "cell_type": "code",
   "execution_count": 456,
   "metadata": {},
   "outputs": [],
   "source": [
    "#py.iplot(fig[9], filename='basic-line')"
   ]
  },
  {
   "cell_type": "code",
   "execution_count": 457,
   "metadata": {},
   "outputs": [
    {
     "name": "stdout",
     "output_type": "stream",
     "text": [
      "High five! You successfully sent some data to your account on plotly. View your plot in your browser at https://plot.ly/~davit.abgaryan/0 or inside your plot.ly account where it is named 'basic-line'\n"
     ]
    },
    {
     "data": {
      "text/html": [
       "<iframe id=\"igraph\" scrolling=\"no\" style=\"border:none;\" seamless=\"seamless\" src=\"https://plot.ly/~davit.abgaryan/0.embed\" height=\"525px\" width=\"100%\"></iframe>"
      ],
      "text/plain": [
       "<plotly.tools.PlotlyDisplay object>"
      ]
     },
     "execution_count": 457,
     "metadata": {},
     "output_type": "execute_result"
    }
   ],
   "source": [
    "py.iplot(fig[10], filename='basic-line')"
   ]
  },
  {
   "cell_type": "code",
   "execution_count": null,
   "metadata": {},
   "outputs": [],
   "source": []
  }
 ],
 "metadata": {
  "kernelspec": {
   "display_name": "Python 3",
   "language": "python",
   "name": "python3"
  },
  "language_info": {
   "codemirror_mode": {
    "name": "ipython",
    "version": 3
   },
   "file_extension": ".py",
   "mimetype": "text/x-python",
   "name": "python",
   "nbconvert_exporter": "python",
   "pygments_lexer": "ipython3",
   "version": "3.6.3"
  }
 },
 "nbformat": 4,
 "nbformat_minor": 2
}
