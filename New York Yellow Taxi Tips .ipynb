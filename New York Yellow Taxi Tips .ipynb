{
 "cells": [
  {
   "cell_type": "markdown",
   "metadata": {},
   "source": [
    " # Libraries"
   ]
  },
  {
   "cell_type": "code",
   "execution_count": 1,
   "metadata": {},
   "outputs": [],
   "source": [
    "#importing required libraries\n",
    "import pandas as pd\n",
    "import numpy as np\n",
    "\n",
    "from sklearn.tree import DecisionTreeClassifier\n",
    "from sklearn.model_selection import train_test_split, cross_val_score, GridSearchCV\n",
    "from sklearn.tree import export_graphviz\n",
    "from sklearn.metrics import recall_score, roc_auc_score\n",
    "from sklearn.ensemble import RandomForestClassifier, GradientBoostingClassifier\n",
    "from sklearn.linear_model import LogisticRegression"
   ]
  },
  {
   "cell_type": "markdown",
   "metadata": {},
   "source": [
    "# Getting Data"
   ]
  },
  {
   "cell_type": "code",
   "execution_count": 2,
   "metadata": {
    "scrolled": false
   },
   "outputs": [
    {
     "name": "stdout",
     "output_type": "stream",
     "text": [
      "Requesting query... ok.\n",
      "Job ID: c5f2d432-6cbe-4177-9139-2682952170a8\n",
      "Query running...\n",
      "Query done.\n",
      "Cache hit.\n",
      "\n",
      "Retrieving results...\n",
      "Got 50000 rows.\n",
      "\n",
      "Total time taken 11.84 s.\n",
      "Finished at 2018-03-15 17:14:41.\n"
     ]
    }
   ],
   "source": [
    "#importing the data from tip0 and tip1 tables at GBQ as Dataframes\n",
    "projectid = \"newyorkdavitabgaryan\"\n",
    "\n",
    "tip0 = pd.read_gbq('SELECT * FROM New_York.tip0', projectid)"
   ]
  },
  {
   "cell_type": "code",
   "execution_count": 3,
   "metadata": {},
   "outputs": [
    {
     "name": "stdout",
     "output_type": "stream",
     "text": [
      "Requesting query... ok.\n",
      "Job ID: 743831e1-f30c-481a-83ba-fd196e8d6c1d\n",
      "Query running...\n",
      "Query done.\n",
      "Cache hit.\n",
      "\n",
      "Retrieving results...\n",
      "Got 50000 rows.\n",
      "\n",
      "Total time taken 10.6 s.\n",
      "Finished at 2018-03-15 17:14:57.\n"
     ]
    }
   ],
   "source": [
    "tip1 = pd.read_gbq('SELECT * FROM New_York.tip1', projectid)"
   ]
  },
  {
   "cell_type": "code",
   "execution_count": 4,
   "metadata": {},
   "outputs": [
    {
     "data": {
      "text/html": [
       "<div>\n",
       "<style scoped>\n",
       "    .dataframe tbody tr th:only-of-type {\n",
       "        vertical-align: middle;\n",
       "    }\n",
       "\n",
       "    .dataframe tbody tr th {\n",
       "        vertical-align: top;\n",
       "    }\n",
       "\n",
       "    .dataframe thead th {\n",
       "        text-align: right;\n",
       "    }\n",
       "</style>\n",
       "<table border=\"1\" class=\"dataframe\">\n",
       "  <thead>\n",
       "    <tr style=\"text-align: right;\">\n",
       "      <th></th>\n",
       "      <th>tip</th>\n",
       "      <th>tip_amount</th>\n",
       "      <th>Hr</th>\n",
       "      <th>Wk</th>\n",
       "      <th>TripMonth</th>\n",
       "      <th>time</th>\n",
       "      <th>trip_distance</th>\n",
       "      <th>fare_amount</th>\n",
       "      <th>extra</th>\n",
       "      <th>mta_tax</th>\n",
       "      <th>tolls_amount</th>\n",
       "      <th>rate_code</th>\n",
       "      <th>passenger_count</th>\n",
       "    </tr>\n",
       "  </thead>\n",
       "  <tbody>\n",
       "    <tr>\n",
       "      <th>0</th>\n",
       "      <td>0</td>\n",
       "      <td>0.0</td>\n",
       "      <td>0</td>\n",
       "      <td>1</td>\n",
       "      <td>7</td>\n",
       "      <td>26.216667</td>\n",
       "      <td>7.66</td>\n",
       "      <td>25.0</td>\n",
       "      <td>0.5</td>\n",
       "      <td>0.5</td>\n",
       "      <td>0.00</td>\n",
       "      <td>1</td>\n",
       "      <td>2</td>\n",
       "    </tr>\n",
       "    <tr>\n",
       "      <th>1</th>\n",
       "      <td>0</td>\n",
       "      <td>0.0</td>\n",
       "      <td>0</td>\n",
       "      <td>1</td>\n",
       "      <td>12</td>\n",
       "      <td>36.416667</td>\n",
       "      <td>6.40</td>\n",
       "      <td>27.0</td>\n",
       "      <td>0.5</td>\n",
       "      <td>0.5</td>\n",
       "      <td>0.00</td>\n",
       "      <td>1</td>\n",
       "      <td>1</td>\n",
       "    </tr>\n",
       "    <tr>\n",
       "      <th>2</th>\n",
       "      <td>0</td>\n",
       "      <td>0.0</td>\n",
       "      <td>0</td>\n",
       "      <td>1</td>\n",
       "      <td>6</td>\n",
       "      <td>44.716667</td>\n",
       "      <td>16.60</td>\n",
       "      <td>49.5</td>\n",
       "      <td>0.5</td>\n",
       "      <td>0.5</td>\n",
       "      <td>5.54</td>\n",
       "      <td>1</td>\n",
       "      <td>1</td>\n",
       "    </tr>\n",
       "    <tr>\n",
       "      <th>3</th>\n",
       "      <td>0</td>\n",
       "      <td>0.0</td>\n",
       "      <td>0</td>\n",
       "      <td>1</td>\n",
       "      <td>10</td>\n",
       "      <td>29.200000</td>\n",
       "      <td>9.00</td>\n",
       "      <td>29.5</td>\n",
       "      <td>0.5</td>\n",
       "      <td>0.5</td>\n",
       "      <td>0.00</td>\n",
       "      <td>1</td>\n",
       "      <td>1</td>\n",
       "    </tr>\n",
       "    <tr>\n",
       "      <th>4</th>\n",
       "      <td>0</td>\n",
       "      <td>0.0</td>\n",
       "      <td>0</td>\n",
       "      <td>1</td>\n",
       "      <td>10</td>\n",
       "      <td>31.833333</td>\n",
       "      <td>5.23</td>\n",
       "      <td>23.0</td>\n",
       "      <td>0.5</td>\n",
       "      <td>0.5</td>\n",
       "      <td>0.00</td>\n",
       "      <td>1</td>\n",
       "      <td>2</td>\n",
       "    </tr>\n",
       "  </tbody>\n",
       "</table>\n",
       "</div>"
      ],
      "text/plain": [
       "  tip  tip_amount  Hr  Wk  TripMonth       time  trip_distance  fare_amount  \\\n",
       "0   0         0.0   0   1          7  26.216667           7.66         25.0   \n",
       "1   0         0.0   0   1         12  36.416667           6.40         27.0   \n",
       "2   0         0.0   0   1          6  44.716667          16.60         49.5   \n",
       "3   0         0.0   0   1         10  29.200000           9.00         29.5   \n",
       "4   0         0.0   0   1         10  31.833333           5.23         23.0   \n",
       "\n",
       "   extra  mta_tax  tolls_amount  rate_code  passenger_count  \n",
       "0    0.5      0.5          0.00          1                2  \n",
       "1    0.5      0.5          0.00          1                1  \n",
       "2    0.5      0.5          5.54          1                1  \n",
       "3    0.5      0.5          0.00          1                1  \n",
       "4    0.5      0.5          0.00          1                2  "
      ]
     },
     "execution_count": 4,
     "metadata": {},
     "output_type": "execute_result"
    }
   ],
   "source": [
    "#combining the data\n",
    "data=tip0.append(tip1,ignore_index=False, verify_integrity=False)\n",
    "data.head()"
   ]
  },
  {
   "cell_type": "markdown",
   "metadata": {},
   "source": [
    "# Cleaning Data"
   ]
  },
  {
   "cell_type": "code",
   "execution_count": 5,
   "metadata": {},
   "outputs": [
    {
     "name": "stdout",
     "output_type": "stream",
     "text": [
      "<class 'pandas.core.frame.DataFrame'>\n",
      "Int64Index: 100000 entries, 0 to 49999\n",
      "Data columns (total 13 columns):\n",
      "tip                100000 non-null object\n",
      "tip_amount         100000 non-null float64\n",
      "Hr                 100000 non-null int32\n",
      "Wk                 100000 non-null int32\n",
      "TripMonth          100000 non-null int32\n",
      "time               100000 non-null float64\n",
      "trip_distance      100000 non-null float64\n",
      "fare_amount        100000 non-null float64\n",
      "extra              100000 non-null float64\n",
      "mta_tax            100000 non-null float64\n",
      "tolls_amount       100000 non-null float64\n",
      "rate_code          100000 non-null int32\n",
      "passenger_count    100000 non-null int32\n",
      "dtypes: float64(7), int32(5), object(1)\n",
      "memory usage: 8.8+ MB\n"
     ]
    }
   ],
   "source": [
    "#having look at the data types\n",
    "data.info()"
   ]
  },
  {
   "cell_type": "code",
   "execution_count": 6,
   "metadata": {},
   "outputs": [
    {
     "data": {
      "text/plain": [
       "0    50.0\n",
       "1    50.0\n",
       "Name: tip, dtype: float64"
      ]
     },
     "execution_count": 6,
     "metadata": {},
     "output_type": "execute_result"
    }
   ],
   "source": [
    "# counting values for \"tip\"\n",
    "100.0*data.tip.value_counts()/len(data)"
   ]
  },
  {
   "cell_type": "code",
   "execution_count": 7,
   "metadata": {},
   "outputs": [
    {
     "data": {
      "text/html": [
       "<div>\n",
       "<style scoped>\n",
       "    .dataframe tbody tr th:only-of-type {\n",
       "        vertical-align: middle;\n",
       "    }\n",
       "\n",
       "    .dataframe tbody tr th {\n",
       "        vertical-align: top;\n",
       "    }\n",
       "\n",
       "    .dataframe thead th {\n",
       "        text-align: right;\n",
       "    }\n",
       "</style>\n",
       "<table border=\"1\" class=\"dataframe\">\n",
       "  <thead>\n",
       "    <tr style=\"text-align: right;\">\n",
       "      <th></th>\n",
       "      <th>tip</th>\n",
       "      <th>Hr</th>\n",
       "      <th>Wk</th>\n",
       "      <th>TripMonth</th>\n",
       "      <th>time</th>\n",
       "      <th>trip_distance</th>\n",
       "      <th>fare_amount</th>\n",
       "      <th>extra</th>\n",
       "      <th>mta_tax</th>\n",
       "      <th>tolls_amount</th>\n",
       "      <th>rate_code</th>\n",
       "      <th>passenger_count</th>\n",
       "    </tr>\n",
       "  </thead>\n",
       "  <tbody>\n",
       "    <tr>\n",
       "      <th>0</th>\n",
       "      <td>0</td>\n",
       "      <td>0</td>\n",
       "      <td>1</td>\n",
       "      <td>7</td>\n",
       "      <td>26.216667</td>\n",
       "      <td>7.66</td>\n",
       "      <td>25.0</td>\n",
       "      <td>0.5</td>\n",
       "      <td>0.5</td>\n",
       "      <td>0.00</td>\n",
       "      <td>1</td>\n",
       "      <td>2</td>\n",
       "    </tr>\n",
       "    <tr>\n",
       "      <th>1</th>\n",
       "      <td>0</td>\n",
       "      <td>0</td>\n",
       "      <td>1</td>\n",
       "      <td>12</td>\n",
       "      <td>36.416667</td>\n",
       "      <td>6.40</td>\n",
       "      <td>27.0</td>\n",
       "      <td>0.5</td>\n",
       "      <td>0.5</td>\n",
       "      <td>0.00</td>\n",
       "      <td>1</td>\n",
       "      <td>1</td>\n",
       "    </tr>\n",
       "    <tr>\n",
       "      <th>2</th>\n",
       "      <td>0</td>\n",
       "      <td>0</td>\n",
       "      <td>1</td>\n",
       "      <td>6</td>\n",
       "      <td>44.716667</td>\n",
       "      <td>16.60</td>\n",
       "      <td>49.5</td>\n",
       "      <td>0.5</td>\n",
       "      <td>0.5</td>\n",
       "      <td>5.54</td>\n",
       "      <td>1</td>\n",
       "      <td>1</td>\n",
       "    </tr>\n",
       "    <tr>\n",
       "      <th>3</th>\n",
       "      <td>0</td>\n",
       "      <td>0</td>\n",
       "      <td>1</td>\n",
       "      <td>10</td>\n",
       "      <td>29.200000</td>\n",
       "      <td>9.00</td>\n",
       "      <td>29.5</td>\n",
       "      <td>0.5</td>\n",
       "      <td>0.5</td>\n",
       "      <td>0.00</td>\n",
       "      <td>1</td>\n",
       "      <td>1</td>\n",
       "    </tr>\n",
       "    <tr>\n",
       "      <th>4</th>\n",
       "      <td>0</td>\n",
       "      <td>0</td>\n",
       "      <td>1</td>\n",
       "      <td>10</td>\n",
       "      <td>31.833333</td>\n",
       "      <td>5.23</td>\n",
       "      <td>23.0</td>\n",
       "      <td>0.5</td>\n",
       "      <td>0.5</td>\n",
       "      <td>0.00</td>\n",
       "      <td>1</td>\n",
       "      <td>2</td>\n",
       "    </tr>\n",
       "  </tbody>\n",
       "</table>\n",
       "</div>"
      ],
      "text/plain": [
       "  tip  Hr  Wk  TripMonth       time  trip_distance  fare_amount  extra  \\\n",
       "0   0   0   1          7  26.216667           7.66         25.0    0.5   \n",
       "1   0   0   1         12  36.416667           6.40         27.0    0.5   \n",
       "2   0   0   1          6  44.716667          16.60         49.5    0.5   \n",
       "3   0   0   1         10  29.200000           9.00         29.5    0.5   \n",
       "4   0   0   1         10  31.833333           5.23         23.0    0.5   \n",
       "\n",
       "   mta_tax  tolls_amount  rate_code  passenger_count  \n",
       "0      0.5          0.00          1                2  \n",
       "1      0.5          0.00          1                1  \n",
       "2      0.5          5.54          1                1  \n",
       "3      0.5          0.00          1                1  \n",
       "4      0.5          0.00          1                2  "
      ]
     },
     "execution_count": 7,
     "metadata": {},
     "output_type": "execute_result"
    }
   ],
   "source": [
    "#dropping tip_amount\n",
    "data=data.drop(['tip_amount'], axis=1)\n",
    "data.head()"
   ]
  },
  {
   "cell_type": "code",
   "execution_count": 8,
   "metadata": {},
   "outputs": [],
   "source": [
    "#changing type of \"tip\" from object to integer\n",
    "data.tip = data.tip.astype(\"category\").cat.reorder_categories([\"0\",\"1\"]).cat.codes"
   ]
  },
  {
   "cell_type": "code",
   "execution_count": 9,
   "metadata": {},
   "outputs": [
    {
     "data": {
      "text/plain": [
       "1    50000\n",
       "0    50000\n",
       "Name: tip, dtype: int64"
      ]
     },
     "execution_count": 9,
     "metadata": {},
     "output_type": "execute_result"
    }
   ],
   "source": [
    "#counting values again\n",
    "data.tip.value_counts()"
   ]
  },
  {
   "cell_type": "markdown",
   "metadata": {},
   "source": [
    "# Target, Features and Train Test Split"
   ]
  },
  {
   "cell_type": "code",
   "execution_count": 10,
   "metadata": {},
   "outputs": [
    {
     "data": {
      "text/html": [
       "<div>\n",
       "<style scoped>\n",
       "    .dataframe tbody tr th:only-of-type {\n",
       "        vertical-align: middle;\n",
       "    }\n",
       "\n",
       "    .dataframe tbody tr th {\n",
       "        vertical-align: top;\n",
       "    }\n",
       "\n",
       "    .dataframe thead th {\n",
       "        text-align: right;\n",
       "    }\n",
       "</style>\n",
       "<table border=\"1\" class=\"dataframe\">\n",
       "  <thead>\n",
       "    <tr style=\"text-align: right;\">\n",
       "      <th></th>\n",
       "      <th>Hr</th>\n",
       "      <th>Wk</th>\n",
       "      <th>TripMonth</th>\n",
       "      <th>time</th>\n",
       "      <th>trip_distance</th>\n",
       "      <th>fare_amount</th>\n",
       "      <th>extra</th>\n",
       "      <th>mta_tax</th>\n",
       "      <th>tolls_amount</th>\n",
       "      <th>rate_code</th>\n",
       "      <th>passenger_count</th>\n",
       "    </tr>\n",
       "  </thead>\n",
       "  <tbody>\n",
       "    <tr>\n",
       "      <th>0</th>\n",
       "      <td>0</td>\n",
       "      <td>1</td>\n",
       "      <td>7</td>\n",
       "      <td>26.216667</td>\n",
       "      <td>7.66</td>\n",
       "      <td>25.0</td>\n",
       "      <td>0.5</td>\n",
       "      <td>0.5</td>\n",
       "      <td>0.00</td>\n",
       "      <td>1</td>\n",
       "      <td>2</td>\n",
       "    </tr>\n",
       "    <tr>\n",
       "      <th>1</th>\n",
       "      <td>0</td>\n",
       "      <td>1</td>\n",
       "      <td>12</td>\n",
       "      <td>36.416667</td>\n",
       "      <td>6.40</td>\n",
       "      <td>27.0</td>\n",
       "      <td>0.5</td>\n",
       "      <td>0.5</td>\n",
       "      <td>0.00</td>\n",
       "      <td>1</td>\n",
       "      <td>1</td>\n",
       "    </tr>\n",
       "    <tr>\n",
       "      <th>2</th>\n",
       "      <td>0</td>\n",
       "      <td>1</td>\n",
       "      <td>6</td>\n",
       "      <td>44.716667</td>\n",
       "      <td>16.60</td>\n",
       "      <td>49.5</td>\n",
       "      <td>0.5</td>\n",
       "      <td>0.5</td>\n",
       "      <td>5.54</td>\n",
       "      <td>1</td>\n",
       "      <td>1</td>\n",
       "    </tr>\n",
       "    <tr>\n",
       "      <th>3</th>\n",
       "      <td>0</td>\n",
       "      <td>1</td>\n",
       "      <td>10</td>\n",
       "      <td>29.200000</td>\n",
       "      <td>9.00</td>\n",
       "      <td>29.5</td>\n",
       "      <td>0.5</td>\n",
       "      <td>0.5</td>\n",
       "      <td>0.00</td>\n",
       "      <td>1</td>\n",
       "      <td>1</td>\n",
       "    </tr>\n",
       "    <tr>\n",
       "      <th>4</th>\n",
       "      <td>0</td>\n",
       "      <td>1</td>\n",
       "      <td>10</td>\n",
       "      <td>31.833333</td>\n",
       "      <td>5.23</td>\n",
       "      <td>23.0</td>\n",
       "      <td>0.5</td>\n",
       "      <td>0.5</td>\n",
       "      <td>0.00</td>\n",
       "      <td>1</td>\n",
       "      <td>2</td>\n",
       "    </tr>\n",
       "  </tbody>\n",
       "</table>\n",
       "</div>"
      ],
      "text/plain": [
       "   Hr  Wk  TripMonth       time  trip_distance  fare_amount  extra  mta_tax  \\\n",
       "0   0   1          7  26.216667           7.66         25.0    0.5      0.5   \n",
       "1   0   1         12  36.416667           6.40         27.0    0.5      0.5   \n",
       "2   0   1          6  44.716667          16.60         49.5    0.5      0.5   \n",
       "3   0   1         10  29.200000           9.00         29.5    0.5      0.5   \n",
       "4   0   1         10  31.833333           5.23         23.0    0.5      0.5   \n",
       "\n",
       "   tolls_amount  rate_code  passenger_count  \n",
       "0          0.00          1                2  \n",
       "1          0.00          1                1  \n",
       "2          5.54          1                1  \n",
       "3          0.00          1                1  \n",
       "4          0.00          1                2  "
      ]
     },
     "execution_count": 10,
     "metadata": {},
     "output_type": "execute_result"
    }
   ],
   "source": [
    "# assigning target and features\n",
    "y = data.tip\n",
    "x = data.drop([\"tip\"],axis=1)\n",
    "x.head()"
   ]
  },
  {
   "cell_type": "code",
   "execution_count": 11,
   "metadata": {},
   "outputs": [],
   "source": [
    "# split 75% train and 25% test\n",
    "x_train, x_test, y_train, y_test = train_test_split(x,y,test_size=0.25,random_state=42)"
   ]
  },
  {
   "cell_type": "markdown",
   "metadata": {},
   "source": [
    "# Decision Tree Classifier"
   ]
  },
  {
   "cell_type": "code",
   "execution_count": 12,
   "metadata": {},
   "outputs": [
    {
     "name": "stdout",
     "output_type": "stream",
     "text": [
      "{'max_depth': 7, 'min_samples_leaf': 200}\n"
     ]
    }
   ],
   "source": [
    "# grid searching best parameters\n",
    "test_model = DecisionTreeClassifier(random_state=42)\n",
    "\n",
    "parameters = dict(max_depth=[i for i in range(5,16)], min_samples_leaf = [i for i in range(100,1000,50)])\n",
    "selector = GridSearchCV(test_model, parameters)\n",
    "\n",
    "selector.fit(x_train,y_train)\n",
    "print(selector.best_params_)"
   ]
  },
  {
   "cell_type": "code",
   "execution_count": 13,
   "metadata": {},
   "outputs": [
    {
     "name": "stdout",
     "output_type": "stream",
     "text": [
      "89.16266666666667\n",
      "89.076\n"
     ]
    }
   ],
   "source": [
    "#appling DTC model\n",
    "model_tree = DecisionTreeClassifier(random_state=42, max_depth=7,min_samples_leaf=200, class_weight=\"balanced\")\n",
    "model_tree.fit(x_train,y_train)\n",
    "print(model_tree.score(x_train,y_train)*100)\n",
    "print(model_tree.score(x_test,y_test)*100)"
   ]
  },
  {
   "cell_type": "code",
   "execution_count": 14,
   "metadata": {},
   "outputs": [
    {
     "name": "stdout",
     "output_type": "stream",
     "text": [
      "71.16400000000002\n"
     ]
    }
   ],
   "source": [
    "# doing cross-validation\n",
    "print(np.mean(cross_val_score(model_tree,x,y,cv=10))*100)"
   ]
  },
  {
   "cell_type": "code",
   "execution_count": 15,
   "metadata": {},
   "outputs": [
    {
     "name": "stdout",
     "output_type": "stream",
     "text": [
      "94.68409236690187\n",
      "89.08853405062845\n"
     ]
    }
   ],
   "source": [
    "# calculating recall and roc_auc scores\n",
    "prediction = model_tree.predict(x_test)\n",
    "print (recall_score(y_test,prediction)*100)\n",
    "print(roc_auc_score(y_test,prediction)*100)"
   ]
  },
  {
   "cell_type": "code",
   "execution_count": 16,
   "metadata": {},
   "outputs": [
    {
     "data": {
      "text/plain": [
       "array([4.99895575e-03, 4.94640356e-04, 1.38231809e-05, 1.23531248e-03,\n",
       "       1.58351588e-03, 9.36125424e-01, 1.27745123e-03, 0.00000000e+00,\n",
       "       7.54293722e-03, 4.64694412e-02, 2.58499001e-04])"
      ]
     },
     "execution_count": 16,
     "metadata": {},
     "output_type": "execute_result"
    }
   ],
   "source": [
    "# viewing feature importances\n",
    "model_tree.feature_importances_"
   ]
  },
  {
   "cell_type": "code",
   "execution_count": 17,
   "metadata": {},
   "outputs": [
    {
     "data": {
      "text/html": [
       "<div>\n",
       "<style scoped>\n",
       "    .dataframe tbody tr th:only-of-type {\n",
       "        vertical-align: middle;\n",
       "    }\n",
       "\n",
       "    .dataframe tbody tr th {\n",
       "        vertical-align: top;\n",
       "    }\n",
       "\n",
       "    .dataframe thead th {\n",
       "        text-align: right;\n",
       "    }\n",
       "</style>\n",
       "<table border=\"1\" class=\"dataframe\">\n",
       "  <thead>\n",
       "    <tr style=\"text-align: right;\">\n",
       "      <th></th>\n",
       "      <th>coefficient</th>\n",
       "    </tr>\n",
       "  </thead>\n",
       "  <tbody>\n",
       "    <tr>\n",
       "      <th>Hr</th>\n",
       "      <td>0.004999</td>\n",
       "    </tr>\n",
       "    <tr>\n",
       "      <th>Wk</th>\n",
       "      <td>0.000495</td>\n",
       "    </tr>\n",
       "    <tr>\n",
       "      <th>TripMonth</th>\n",
       "      <td>0.000014</td>\n",
       "    </tr>\n",
       "    <tr>\n",
       "      <th>time</th>\n",
       "      <td>0.001235</td>\n",
       "    </tr>\n",
       "    <tr>\n",
       "      <th>trip_distance</th>\n",
       "      <td>0.001584</td>\n",
       "    </tr>\n",
       "    <tr>\n",
       "      <th>fare_amount</th>\n",
       "      <td>0.936125</td>\n",
       "    </tr>\n",
       "    <tr>\n",
       "      <th>extra</th>\n",
       "      <td>0.001277</td>\n",
       "    </tr>\n",
       "    <tr>\n",
       "      <th>mta_tax</th>\n",
       "      <td>0.000000</td>\n",
       "    </tr>\n",
       "    <tr>\n",
       "      <th>tolls_amount</th>\n",
       "      <td>0.007543</td>\n",
       "    </tr>\n",
       "    <tr>\n",
       "      <th>rate_code</th>\n",
       "      <td>0.046469</td>\n",
       "    </tr>\n",
       "    <tr>\n",
       "      <th>passenger_count</th>\n",
       "      <td>0.000258</td>\n",
       "    </tr>\n",
       "  </tbody>\n",
       "</table>\n",
       "</div>"
      ],
      "text/plain": [
       "                 coefficient\n",
       "Hr                  0.004999\n",
       "Wk                  0.000495\n",
       "TripMonth           0.000014\n",
       "time                0.001235\n",
       "trip_distance       0.001584\n",
       "fare_amount         0.936125\n",
       "extra               0.001277\n",
       "mta_tax             0.000000\n",
       "tolls_amount        0.007543\n",
       "rate_code           0.046469\n",
       "passenger_count     0.000258"
      ]
     },
     "execution_count": 17,
     "metadata": {},
     "output_type": "execute_result"
    }
   ],
   "source": [
    "# showing them as dataframe\n",
    "tree_coef = pd.DataFrame(data=model_tree.feature_importances_.reshape(-1,1),index=x_train.columns,columns=[\"coefficient\"])\n",
    "tree_coef.head(12)"
   ]
  },
  {
   "cell_type": "code",
   "execution_count": 18,
   "metadata": {},
   "outputs": [
    {
     "data": {
      "text/html": [
       "<div>\n",
       "<style scoped>\n",
       "    .dataframe tbody tr th:only-of-type {\n",
       "        vertical-align: middle;\n",
       "    }\n",
       "\n",
       "    .dataframe tbody tr th {\n",
       "        vertical-align: top;\n",
       "    }\n",
       "\n",
       "    .dataframe thead th {\n",
       "        text-align: right;\n",
       "    }\n",
       "</style>\n",
       "<table border=\"1\" class=\"dataframe\">\n",
       "  <thead>\n",
       "    <tr style=\"text-align: right;\">\n",
       "      <th></th>\n",
       "      <th>coefficient</th>\n",
       "    </tr>\n",
       "  </thead>\n",
       "  <tbody>\n",
       "    <tr>\n",
       "      <th>fare_amount</th>\n",
       "      <td>0.936125</td>\n",
       "    </tr>\n",
       "    <tr>\n",
       "      <th>rate_code</th>\n",
       "      <td>0.046469</td>\n",
       "    </tr>\n",
       "  </tbody>\n",
       "</table>\n",
       "</div>"
      ],
      "text/plain": [
       "             coefficient\n",
       "fare_amount     0.936125\n",
       "rate_code       0.046469"
      ]
     },
     "execution_count": 18,
     "metadata": {},
     "output_type": "execute_result"
    }
   ],
   "source": [
    "# selecting imprortant features\n",
    "selected = tree_coef[tree_coef.coefficient>0.01].sort_values(\"coefficient\", axis=0, ascending=False)\n",
    "selected.head()"
   ]
  },
  {
   "cell_type": "code",
   "execution_count": 19,
   "metadata": {},
   "outputs": [
    {
     "name": "stdout",
     "output_type": "stream",
     "text": [
      "88.96133333333334\n",
      "88.724\n",
      "94.41148171905067\n",
      "89.22646737126378\n"
     ]
    }
   ],
   "source": [
    "# fittig final model to data with only selected features\n",
    "selected_features = selected.index\n",
    "x_train_selected = x_train[selected_features]\n",
    "x_test_selected = x_test[selected_features]\n",
    "\n",
    "model_tree.fit(x_train_selected, y_train)\n",
    "print(model_tree.score(x_train_selected, y_train)*100)\n",
    "print(model_tree.score(x_test_selected, y_test)*100)\n",
    "\n",
    "prediction = model_tree.predict(x_test_selected)\n",
    "print (recall_score(y_test,prediction)*100)\n",
    "print(roc_auc_score(prediction, y_test)*100)\n",
    "\n",
    "export_graphviz(model_tree,out_file=\"tree.dot\",filled=True,feature_names = x_train_selected.columns)"
   ]
  },
  {
   "cell_type": "markdown",
   "metadata": {},
   "source": [
    "# Random Forest"
   ]
  },
  {
   "cell_type": "code",
   "execution_count": 20,
   "metadata": {},
   "outputs": [
    {
     "name": "stdout",
     "output_type": "stream",
     "text": [
      "99.26266666666666\n",
      "87.676\n",
      "90.4746632456703\n",
      "87.68225499448266\n"
     ]
    }
   ],
   "source": [
    "# applying Random forest model\n",
    "\n",
    "model_rf = RandomForestClassifier(random_state=42)\n",
    "model_rf.fit(x_train,y_train)\n",
    "print(model_rf.score(x_train,y_train)*100)\n",
    "print(model_rf.score(x_test,y_test)*100)\n",
    "\n",
    "# calculating recall and roc_auc scores\n",
    "prediction = model_rf.predict(x_test)\n",
    "print (recall_score(y_test,prediction)*100)\n",
    "print(roc_auc_score(y_test,prediction)*100)"
   ]
  },
  {
   "cell_type": "markdown",
   "metadata": {},
   "source": [
    "# Gradient Boosting"
   ]
  },
  {
   "cell_type": "code",
   "execution_count": 21,
   "metadata": {},
   "outputs": [
    {
     "name": "stdout",
     "output_type": "stream",
     "text": [
      "89.34\n",
      "89.092\n",
      "94.60391276459269\n",
      "89.10431908983148\n"
     ]
    }
   ],
   "source": [
    "model_gb = GradientBoostingClassifier(random_state=42)\n",
    "model_gb.fit(x_train,y_train)\n",
    "print(model_gb.score(x_train,y_train)*100)\n",
    "print(model_gb.score(x_test,y_test)*100)\n",
    "\n",
    "# calculating recall and roc_auc scores\n",
    "prediction = model_gb.predict(x_test)\n",
    "print (recall_score(y_test,prediction)*100)\n",
    "print(roc_auc_score(y_test,prediction)*100)"
   ]
  },
  {
   "cell_type": "code",
   "execution_count": 22,
   "metadata": {},
   "outputs": [
    {
     "data": {
      "text/html": [
       "<div>\n",
       "<style scoped>\n",
       "    .dataframe tbody tr th:only-of-type {\n",
       "        vertical-align: middle;\n",
       "    }\n",
       "\n",
       "    .dataframe tbody tr th {\n",
       "        vertical-align: top;\n",
       "    }\n",
       "\n",
       "    .dataframe thead th {\n",
       "        text-align: right;\n",
       "    }\n",
       "</style>\n",
       "<table border=\"1\" class=\"dataframe\">\n",
       "  <thead>\n",
       "    <tr style=\"text-align: right;\">\n",
       "      <th></th>\n",
       "      <th>coefficient</th>\n",
       "    </tr>\n",
       "  </thead>\n",
       "  <tbody>\n",
       "    <tr>\n",
       "      <th>Hr</th>\n",
       "      <td>0.046884</td>\n",
       "    </tr>\n",
       "    <tr>\n",
       "      <th>Wk</th>\n",
       "      <td>0.039783</td>\n",
       "    </tr>\n",
       "    <tr>\n",
       "      <th>TripMonth</th>\n",
       "      <td>0.017999</td>\n",
       "    </tr>\n",
       "    <tr>\n",
       "      <th>time</th>\n",
       "      <td>0.109504</td>\n",
       "    </tr>\n",
       "    <tr>\n",
       "      <th>trip_distance</th>\n",
       "      <td>0.086643</td>\n",
       "    </tr>\n",
       "    <tr>\n",
       "      <th>fare_amount</th>\n",
       "      <td>0.448927</td>\n",
       "    </tr>\n",
       "    <tr>\n",
       "      <th>extra</th>\n",
       "      <td>0.026016</td>\n",
       "    </tr>\n",
       "    <tr>\n",
       "      <th>mta_tax</th>\n",
       "      <td>0.002808</td>\n",
       "    </tr>\n",
       "    <tr>\n",
       "      <th>tolls_amount</th>\n",
       "      <td>0.073541</td>\n",
       "    </tr>\n",
       "    <tr>\n",
       "      <th>rate_code</th>\n",
       "      <td>0.106373</td>\n",
       "    </tr>\n",
       "    <tr>\n",
       "      <th>passenger_count</th>\n",
       "      <td>0.041521</td>\n",
       "    </tr>\n",
       "  </tbody>\n",
       "</table>\n",
       "</div>"
      ],
      "text/plain": [
       "                 coefficient\n",
       "Hr                  0.046884\n",
       "Wk                  0.039783\n",
       "TripMonth           0.017999\n",
       "time                0.109504\n",
       "trip_distance       0.086643\n",
       "fare_amount         0.448927\n",
       "extra               0.026016\n",
       "mta_tax             0.002808\n",
       "tolls_amount        0.073541\n",
       "rate_code           0.106373\n",
       "passenger_count     0.041521"
      ]
     },
     "execution_count": 22,
     "metadata": {},
     "output_type": "execute_result"
    }
   ],
   "source": [
    "# showing feature importances as dataframe\n",
    "tree_coef = pd.DataFrame(data=model_gb.feature_importances_.reshape(-1,1),index=x_train.columns,columns=[\"coefficient\"])\n",
    "tree_coef.head(12)"
   ]
  },
  {
   "cell_type": "code",
   "execution_count": 23,
   "metadata": {},
   "outputs": [
    {
     "data": {
      "text/html": [
       "<div>\n",
       "<style scoped>\n",
       "    .dataframe tbody tr th:only-of-type {\n",
       "        vertical-align: middle;\n",
       "    }\n",
       "\n",
       "    .dataframe tbody tr th {\n",
       "        vertical-align: top;\n",
       "    }\n",
       "\n",
       "    .dataframe thead th {\n",
       "        text-align: right;\n",
       "    }\n",
       "</style>\n",
       "<table border=\"1\" class=\"dataframe\">\n",
       "  <thead>\n",
       "    <tr style=\"text-align: right;\">\n",
       "      <th></th>\n",
       "      <th>coefficient</th>\n",
       "    </tr>\n",
       "  </thead>\n",
       "  <tbody>\n",
       "    <tr>\n",
       "      <th>fare_amount</th>\n",
       "      <td>0.448927</td>\n",
       "    </tr>\n",
       "    <tr>\n",
       "      <th>time</th>\n",
       "      <td>0.109504</td>\n",
       "    </tr>\n",
       "    <tr>\n",
       "      <th>rate_code</th>\n",
       "      <td>0.106373</td>\n",
       "    </tr>\n",
       "    <tr>\n",
       "      <th>trip_distance</th>\n",
       "      <td>0.086643</td>\n",
       "    </tr>\n",
       "    <tr>\n",
       "      <th>tolls_amount</th>\n",
       "      <td>0.073541</td>\n",
       "    </tr>\n",
       "  </tbody>\n",
       "</table>\n",
       "</div>"
      ],
      "text/plain": [
       "               coefficient\n",
       "fare_amount       0.448927\n",
       "time              0.109504\n",
       "rate_code         0.106373\n",
       "trip_distance     0.086643\n",
       "tolls_amount      0.073541"
      ]
     },
     "execution_count": 23,
     "metadata": {},
     "output_type": "execute_result"
    }
   ],
   "source": [
    "# selecting imprortant features\n",
    "selected = tree_coef[tree_coef.coefficient>0.05].sort_values(\"coefficient\", axis=0, ascending=False)\n",
    "selected.head()"
   ]
  },
  {
   "cell_type": "code",
   "execution_count": 24,
   "metadata": {},
   "outputs": [
    {
     "name": "stdout",
     "output_type": "stream",
     "text": [
      "89.30933333333333\n",
      "89.032\n",
      "94.6119307248236\n",
      "89.51898355348179\n"
     ]
    }
   ],
   "source": [
    "# fittig final model to data with only selected features\n",
    "selected_features = selected.index\n",
    "x_train_selected = x_train[selected_features]\n",
    "x_test_selected = x_test[selected_features]\n",
    "\n",
    "model_gb.fit(x_train_selected, y_train)\n",
    "print(model_gb.score(x_train_selected, y_train)*100)\n",
    "print(model_gb.score(x_test_selected, y_test)*100)\n",
    "\n",
    "prediction = model_gb.predict(x_test_selected)\n",
    "print (recall_score(y_test,prediction)*100)\n",
    "print(roc_auc_score(prediction, y_test)*100)\n"
   ]
  },
  {
   "cell_type": "markdown",
   "metadata": {},
   "source": [
    "# Logistic Regression"
   ]
  },
  {
   "cell_type": "code",
   "execution_count": 25,
   "metadata": {},
   "outputs": [
    {
     "name": "stdout",
     "output_type": "stream",
     "text": [
      "86.176\n",
      "86.0\n",
      "87.79666452854393\n",
      "86.00401553374834\n"
     ]
    }
   ],
   "source": [
    "# applying Logistic Regression on initial data\n",
    "model_logit = LogisticRegression(random_state=42)\n",
    "model_logit.fit(x_train,y_train)\n",
    "print(model_logit.score(x_train,y_train)*100)\n",
    "print(model_logit.score(x_test,y_test)*100)\n",
    "\n",
    "# calculating recall and roc_auc scores\n",
    "prediction = model_logit.predict(x_test)\n",
    "print (recall_score(y_test,prediction)*100)\n",
    "print(roc_auc_score(y_test,prediction)*100)"
   ]
  },
  {
   "cell_type": "code",
   "execution_count": 26,
   "metadata": {},
   "outputs": [
    {
     "name": "stdout",
     "output_type": "stream",
     "text": [
      "86.58533333333334\n",
      "86.252\n",
      "88.47017318794099\n",
      "86.25695760291046\n"
     ]
    }
   ],
   "source": [
    "# applying Logistic Regression on selected features\n",
    "model_logit = LogisticRegression(random_state=42)\n",
    "model_logit.fit(x_train_selected,y_train)\n",
    "print(model_logit.score(x_train_selected,y_train)*100)\n",
    "print(model_logit.score(x_test_selected,y_test)*100)\n",
    "\n",
    "# calculating recall and roc_auc scores\n",
    "prediction = model_logit.predict(x_test_selected)\n",
    "print (recall_score(y_test,prediction)*100)\n",
    "print(roc_auc_score(y_test,prediction)*100)"
   ]
  },
  {
   "cell_type": "code",
   "execution_count": null,
   "metadata": {},
   "outputs": [],
   "source": []
  }
 ],
 "metadata": {
  "kernelspec": {
   "display_name": "Python 3",
   "language": "python",
   "name": "python3"
  },
  "language_info": {
   "codemirror_mode": {
    "name": "ipython",
    "version": 3
   },
   "file_extension": ".py",
   "mimetype": "text/x-python",
   "name": "python",
   "nbconvert_exporter": "python",
   "pygments_lexer": "ipython3",
   "version": "3.6.3"
  }
 },
 "nbformat": 4,
 "nbformat_minor": 2
}
